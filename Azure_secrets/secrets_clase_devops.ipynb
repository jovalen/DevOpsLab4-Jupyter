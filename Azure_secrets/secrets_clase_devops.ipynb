{
 "cells": [
  {
   "cell_type": "markdown",
   "metadata": {},
   "source": [
    "## Instalamos libreria Microsoft Entra ID"
   ]
  },
  {
   "cell_type": "code",
   "execution_count": 22,
   "metadata": {},
   "outputs": [
    {
     "name": "stdout",
     "output_type": "stream",
     "text": [
      "Requirement already satisfied: azure-identity in /Library/Frameworks/Python.framework/Versions/3.11/lib/python3.11/site-packages (1.15.0)\n",
      "Requirement already satisfied: azure-core<2.0.0,>=1.23.0 in /Library/Frameworks/Python.framework/Versions/3.11/lib/python3.11/site-packages (from azure-identity) (1.30.1)\n",
      "Requirement already satisfied: cryptography>=2.5 in /Library/Frameworks/Python.framework/Versions/3.11/lib/python3.11/site-packages (from azure-identity) (42.0.5)\n",
      "Requirement already satisfied: msal<2.0.0,>=1.24.0 in /Library/Frameworks/Python.framework/Versions/3.11/lib/python3.11/site-packages (from azure-identity) (1.28.0)\n",
      "Requirement already satisfied: msal-extensions<2.0.0,>=0.3.0 in /Library/Frameworks/Python.framework/Versions/3.11/lib/python3.11/site-packages (from azure-identity) (1.1.0)\n",
      "Requirement already satisfied: requests>=2.21.0 in /Library/Frameworks/Python.framework/Versions/3.11/lib/python3.11/site-packages (from azure-core<2.0.0,>=1.23.0->azure-identity) (2.31.0)\n",
      "Requirement already satisfied: six>=1.11.0 in /Users/jjtel/Library/Python/3.11/lib/python/site-packages (from azure-core<2.0.0,>=1.23.0->azure-identity) (1.16.0)\n",
      "Requirement already satisfied: typing-extensions>=4.6.0 in /Library/Frameworks/Python.framework/Versions/3.11/lib/python3.11/site-packages (from azure-core<2.0.0,>=1.23.0->azure-identity) (4.10.0)\n",
      "Requirement already satisfied: cffi>=1.12 in /Library/Frameworks/Python.framework/Versions/3.11/lib/python3.11/site-packages (from cryptography>=2.5->azure-identity) (1.16.0)\n",
      "Requirement already satisfied: PyJWT[crypto]<3,>=1.0.0 in /Library/Frameworks/Python.framework/Versions/3.11/lib/python3.11/site-packages (from msal<2.0.0,>=1.24.0->azure-identity) (2.8.0)\n",
      "Requirement already satisfied: packaging in /Users/jjtel/Library/Python/3.11/lib/python/site-packages (from msal-extensions<2.0.0,>=0.3.0->azure-identity) (24.0)\n",
      "Requirement already satisfied: portalocker<3,>=1.0 in /Library/Frameworks/Python.framework/Versions/3.11/lib/python3.11/site-packages (from msal-extensions<2.0.0,>=0.3.0->azure-identity) (2.8.2)\n",
      "Requirement already satisfied: pycparser in /Library/Frameworks/Python.framework/Versions/3.11/lib/python3.11/site-packages (from cffi>=1.12->cryptography>=2.5->azure-identity) (2.21)\n",
      "Requirement already satisfied: charset-normalizer<4,>=2 in /Library/Frameworks/Python.framework/Versions/3.11/lib/python3.11/site-packages (from requests>=2.21.0->azure-core<2.0.0,>=1.23.0->azure-identity) (3.3.2)\n",
      "Requirement already satisfied: idna<4,>=2.5 in /Library/Frameworks/Python.framework/Versions/3.11/lib/python3.11/site-packages (from requests>=2.21.0->azure-core<2.0.0,>=1.23.0->azure-identity) (3.6)\n",
      "Requirement already satisfied: urllib3<3,>=1.21.1 in /Library/Frameworks/Python.framework/Versions/3.11/lib/python3.11/site-packages (from requests>=2.21.0->azure-core<2.0.0,>=1.23.0->azure-identity) (2.2.1)\n",
      "Requirement already satisfied: certifi>=2017.4.17 in /Library/Frameworks/Python.framework/Versions/3.11/lib/python3.11/site-packages (from requests>=2.21.0->azure-core<2.0.0,>=1.23.0->azure-identity) (2024.2.2)\n",
      "\n",
      "\u001b[1m[\u001b[0m\u001b[34;49mnotice\u001b[0m\u001b[1;39;49m]\u001b[0m\u001b[39;49m A new release of pip is available: \u001b[0m\u001b[31;49m23.2.1\u001b[0m\u001b[39;49m -> \u001b[0m\u001b[32;49m24.0\u001b[0m\n",
      "\u001b[1m[\u001b[0m\u001b[34;49mnotice\u001b[0m\u001b[1;39;49m]\u001b[0m\u001b[39;49m To update, run: \u001b[0m\u001b[32;49mpython3 -m pip install --upgrade pip\u001b[0m\n",
      "Note: you may need to restart the kernel to use updated packages.\n"
     ]
    }
   ],
   "source": [
    "pip install azure-identity\n"
   ]
  },
  {
   "cell_type": "markdown",
   "metadata": {},
   "source": [
    "## CArgamos Librería para Keyvault"
   ]
  },
  {
   "cell_type": "code",
   "execution_count": 23,
   "metadata": {},
   "outputs": [
    {
     "name": "stdout",
     "output_type": "stream",
     "text": [
      "Requirement already satisfied: azure-keyvault-secrets in /Library/Frameworks/Python.framework/Versions/3.11/lib/python3.11/site-packages (4.8.0)\n",
      "Requirement already satisfied: azure-core<2.0.0,>=1.29.5 in /Library/Frameworks/Python.framework/Versions/3.11/lib/python3.11/site-packages (from azure-keyvault-secrets) (1.30.1)\n",
      "Requirement already satisfied: isodate>=0.6.1 in /Library/Frameworks/Python.framework/Versions/3.11/lib/python3.11/site-packages (from azure-keyvault-secrets) (0.6.1)\n",
      "Requirement already satisfied: typing-extensions>=4.0.1 in /Library/Frameworks/Python.framework/Versions/3.11/lib/python3.11/site-packages (from azure-keyvault-secrets) (4.10.0)\n",
      "Requirement already satisfied: requests>=2.21.0 in /Library/Frameworks/Python.framework/Versions/3.11/lib/python3.11/site-packages (from azure-core<2.0.0,>=1.29.5->azure-keyvault-secrets) (2.31.0)\n",
      "Requirement already satisfied: six>=1.11.0 in /Users/jjtel/Library/Python/3.11/lib/python/site-packages (from azure-core<2.0.0,>=1.29.5->azure-keyvault-secrets) (1.16.0)\n",
      "Requirement already satisfied: charset-normalizer<4,>=2 in /Library/Frameworks/Python.framework/Versions/3.11/lib/python3.11/site-packages (from requests>=2.21.0->azure-core<2.0.0,>=1.29.5->azure-keyvault-secrets) (3.3.2)\n",
      "Requirement already satisfied: idna<4,>=2.5 in /Library/Frameworks/Python.framework/Versions/3.11/lib/python3.11/site-packages (from requests>=2.21.0->azure-core<2.0.0,>=1.29.5->azure-keyvault-secrets) (3.6)\n",
      "Requirement already satisfied: urllib3<3,>=1.21.1 in /Library/Frameworks/Python.framework/Versions/3.11/lib/python3.11/site-packages (from requests>=2.21.0->azure-core<2.0.0,>=1.29.5->azure-keyvault-secrets) (2.2.1)\n",
      "Requirement already satisfied: certifi>=2017.4.17 in /Library/Frameworks/Python.framework/Versions/3.11/lib/python3.11/site-packages (from requests>=2.21.0->azure-core<2.0.0,>=1.29.5->azure-keyvault-secrets) (2024.2.2)\n",
      "\n",
      "\u001b[1m[\u001b[0m\u001b[34;49mnotice\u001b[0m\u001b[1;39;49m]\u001b[0m\u001b[39;49m A new release of pip is available: \u001b[0m\u001b[31;49m23.2.1\u001b[0m\u001b[39;49m -> \u001b[0m\u001b[32;49m24.0\u001b[0m\n",
      "\u001b[1m[\u001b[0m\u001b[34;49mnotice\u001b[0m\u001b[1;39;49m]\u001b[0m\u001b[39;49m To update, run: \u001b[0m\u001b[32;49mpython3 -m pip install --upgrade pip\u001b[0m\n",
      "Note: you may need to restart the kernel to use updated packages.\n"
     ]
    }
   ],
   "source": [
    "pip install azure-keyvault-secrets;"
   ]
  },
  {
   "cell_type": "markdown",
   "metadata": {},
   "source": [
    "## Cargamos librerias\n"
   ]
  },
  {
   "cell_type": "code",
   "execution_count": 44,
   "metadata": {},
   "outputs": [],
   "source": [
    "import os\n",
    "from azure.keyvault.secrets import SecretClient\n",
    "from azure.identity import DefaultAzureCredential"
   ]
  },
  {
   "cell_type": "markdown",
   "metadata": {},
   "source": [
    "## Ahora generamos la URL"
   ]
  },
  {
   "cell_type": "code",
   "execution_count": 45,
   "metadata": {},
   "outputs": [],
   "source": [
    "keyVaultName = \"unirkeyvault\"\n",
    "KVUri = f\"https://{keyVaultName}.vault.azure.net\""
   ]
  },
  {
   "cell_type": "code",
   "execution_count": 46,
   "metadata": {},
   "outputs": [],
   "source": [
    "credential = DefaultAzureCredential()\n",
    "client = SecretClient(vault_url=KVUri, credential=credential)"
   ]
  },
  {
   "cell_type": "code",
   "execution_count": 51,
   "metadata": {},
   "outputs": [
    {
     "name": "stdout",
     "output_type": "stream",
     "text": [
      "Creado el secrento en unirkeyvault called 'secreto2' con valor 'secretonuevo' ...\n"
     ]
    }
   ],
   "source": [
    "secretName = \"secreto2\" \n",
    "secretValue = \"secretonuevo\"\n",
    "\n",
    "client.set_secret(secretName, secretValue)\n",
    "\n",
    "print(f\"Creado el secrento en {keyVaultName} called '{secretName}' con valor '{secretValue}' ...\")"
   ]
  },
  {
   "cell_type": "markdown",
   "metadata": {},
   "source": [
    "## Obtenemos el secreto"
   ]
  },
  {
   "cell_type": "code",
   "execution_count": 55,
   "metadata": {},
   "outputs": [],
   "source": [
    "retrieved_secret = client.get_secret(secretName)"
   ]
  },
  {
   "cell_type": "code",
   "execution_count": 56,
   "metadata": {},
   "outputs": [
    {
     "name": "stdout",
     "output_type": "stream",
     "text": [
      "Mi secreto es 'secretonuevo'.\n"
     ]
    }
   ],
   "source": [
    "print(f\"Mi secreto es '{retrieved_secret.value}'.\")"
   ]
  },
  {
   "cell_type": "markdown",
   "metadata": {},
   "source": [
    "## Ver versiones del secreto"
   ]
  },
  {
   "cell_type": "code",
   "execution_count": 84,
   "metadata": {},
   "outputs": [
    {
     "name": "stdout",
     "output_type": "stream",
     "text": [
      "Listando versiones de un secreto y su valor\n",
      "Secret_Version a99f6fd7931b457680a460ad992038e5 con el valor secretonuevo\n",
      "Secret_Version abca36c332a948fe8b2615caa76ad2b6 con el valor secretonuevo\n",
      "Secret_Version d52e7fa4276d4a6daa6491ada10819d8 con el valor secretonuevo\n"
     ]
    }
   ],
   "source": [
    "# Listar versiones de un secreto y su valor\n",
    "print(\"Listando versiones de un secreto y su valor\")\n",
    "versions = client.list_properties_of_secret_versions(secretName)\n",
    "# cojo la parte de la url del secreto que está despues de secrets\n",
    "for version in versions:\n",
    "    secretVersion = version.id.split(\"/\")[5]\n",
    "    secret= client.get_secret(secretName, secretVersion)\n",
    "    print(f\"Secret_Version {secretVersion} con el valor {secret.value}\")\n",
    "\n",
    "\n",
    "\n"
   ]
  },
  {
   "cell_type": "markdown",
   "metadata": {},
   "source": [
    "## Borrado del secreto"
   ]
  },
  {
   "cell_type": "code",
   "execution_count": 37,
   "metadata": {},
   "outputs": [
    {
     "data": {
      "text/plain": [
       "<azure.keyvault.secrets._shared._polling.KeyVaultOperationPoller at 0x114a1d750>"
      ]
     },
     "execution_count": 37,
     "metadata": {},
     "output_type": "execute_result"
    }
   ],
   "source": [
    "client.begin_delete_secret(secretName)"
   ]
  },
  {
   "cell_type": "markdown",
   "metadata": {},
   "source": [
    "## Como puedo ver secretos borrados?\n"
   ]
  },
  {
   "cell_type": "code",
   "execution_count": 39,
   "metadata": {},
   "outputs": [
    {
     "name": "stdout",
     "output_type": "stream",
     "text": [
      "secreto2\n",
      "2024-07-01 12:48:56+00:00\n",
      "2024-04-02 12:48:56+00:00\n",
      "https://unirkeyvault.vault.azure.net/deletedsecrets/secreto2\n"
     ]
    }
   ],
   "source": [
    "deleted_secret=client.list_deleted_secrets()\n",
    "#listar los secretos borrados\n",
    "for secret in deleted_secret:\n",
    "    print(secret.name)\n",
    "    print(secret.scheduled_purge_date)\n",
    "    print(secret.deleted_date)\n",
    "    print(secret.recovery_id)\n",
    "    print"
   ]
  }
 ],
 "metadata": {
  "kernelspec": {
   "display_name": "Python 3",
   "language": "python",
   "name": "python3"
  },
  "language_info": {
   "codemirror_mode": {
    "name": "ipython",
    "version": 3
   },
   "file_extension": ".py",
   "mimetype": "text/x-python",
   "name": "python",
   "nbconvert_exporter": "python",
   "pygments_lexer": "ipython3",
   "version": "3.11.5"
  }
 },
 "nbformat": 4,
 "nbformat_minor": 2
}
